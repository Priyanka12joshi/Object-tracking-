{
 "cells": [
  {
   "cell_type": "code",
   "execution_count": 18,
   "id": "26a190e3-3060-4ccd-8927-229d8209e289",
   "metadata": {},
   "outputs": [],
   "source": [
    "import cv2 \n",
    "import numpy as np \n",
    "\n",
    "# image is loaded with imread command \n",
    "image = cv2.imread('table.jpeg') \n",
    "\n",
    "# grayscale space \n",
    "operatedImage = cv2.cvtColor(image, cv2.COLOR_BGR2GRAY) \n",
    "\n",
    "# setting to 32-bit floating point \n",
    "operatedImage = np.float32(operatedImage) \n",
    "\n",
    "# to detect the corners with appropriate \n",
    "# values as input parameters \n",
    "dest = cv2.cornerHarris(operatedImage, 5,5, 0.1) \n",
    "\n",
    "# Results are marked through the dilated corners \n",
    "dest = cv2.dilate(dest, None) \n",
    "\n",
    "# Reverting back to the original image, \n",
    "# with optimal threshold value \n",
    "image[dest > 0.01 * dest.max()]=[0,255, 0] \n",
    "\n",
    "# the window showing output image with corners \n",
    "cv2.imshow('Image with Borders', image) \n",
    "\n",
    "# De-allocate any associated memory usage \n",
    "if cv2.waitKey(0) & 0xff == 27: \n",
    "\tcv2.destroyAllWindows()"
   ]
  },
  {
   "cell_type": "code",
   "execution_count": 8,
   "id": "b35c8e6e-9736-4d57-8a91-122f25e151da",
   "metadata": {},
   "outputs": [],
   "source": []
  },
  {
   "cell_type": "code",
   "execution_count": null,
   "id": "fd8d764e-7da7-4999-9718-e6f1c964abe0",
   "metadata": {},
   "outputs": [],
   "source": []
  }
 ],
 "metadata": {
  "kernelspec": {
   "display_name": "Python 3 (ipykernel)",
   "language": "python",
   "name": "python3"
  },
  "language_info": {
   "codemirror_mode": {
    "name": "ipython",
    "version": 3
   },
   "file_extension": ".py",
   "mimetype": "text/x-python",
   "name": "python",
   "nbconvert_exporter": "python",
   "pygments_lexer": "ipython3",
   "version": "3.12.4"
  }
 },
 "nbformat": 4,
 "nbformat_minor": 5
}
